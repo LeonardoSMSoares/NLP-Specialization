{
 "cells": [
  {
   "cell_type": "markdown",
   "metadata": {},
   "source": [
    "# NLP Course 2 Week 1 Lesson : Building The Model - Lecture Exercise 02\n",
    "\n",
    "\n",
    "# Candidates from String Edits\n",
    "Create a list of candidate strings by applying an edit operation\n",
    "\n",
    "### Imports and Data"
   ]
  },
  {
   "cell_type": "code",
   "execution_count": 1,
   "metadata": {},
   "outputs": [],
   "source": [
    "# data\n",
    "word = 'dearz' # 🦌"
   ]
  },
  {
   "cell_type": "markdown",
   "metadata": {},
   "source": [
    "### Splits\n",
    "Find all the ways you can split a word into 2 parts !"
   ]
  },
  {
   "cell_type": "code",
   "execution_count": 2,
   "metadata": {},
   "outputs": [
    {
     "name": "stdout",
     "output_type": "stream",
     "text": [
      "['', 'dearz']\n",
      "['d', 'earz']\n",
      "['de', 'arz']\n",
      "['dea', 'rz']\n",
      "['dear', 'z']\n",
      "['dearz', '']\n"
     ]
    }
   ],
   "source": [
    "# Splits with a loop\n",
    "\n",
    "splits_a = []       # Initialize an empty list to store the split results\n",
    "\n",
    "for i in range(len(word) + 1):  # Iterate over each index from 0 to the length of 'word' (inclusive)\n",
    "    \n",
    "    splits_a.append([word[:i], word[i:]]) # For each index 'i', split the word into two parts:\n",
    "                                          # The first part is the substring from the start up to index 'i' (not inclusive).\n",
    "                                          # The second part is the substring from index 'i' to the end of the word.\n",
    "                                          # Append this pair of splits as a list to 'splits_a'.\n",
    "\n",
    "for i in splits_a:  # Iterate over each split in 'splits_a'\n",
    "    print(i)        # Print the current split, which is a list containing the two parts of the word"
   ]
  },
  {
   "cell_type": "code",
   "execution_count": 3,
   "metadata": {},
   "outputs": [
    {
     "name": "stdout",
     "output_type": "stream",
     "text": [
      "('', 'dearz')\n",
      "('d', 'earz')\n",
      "('de', 'arz')\n",
      "('dea', 'rz')\n",
      "('dear', 'z')\n",
      "('dearz', '')\n"
     ]
    }
   ],
   "source": [
    "# Same splits, done using a list comprehension\n",
    "\n",
    "splits_b = [(word[:i], word[i:])  # Create a tuple containing two parts:\n",
    "                                  # - The first part is the substring from the start up to index 'i' (not inclusive).\n",
    "                                  # - The second part is the substring from index 'i' to the end of the word.\n",
    "            \n",
    "          for i in range(len(word) + 1)]  # Iterate over each index from 0 to the length of 'word' (inclusive)\n",
    "                                          # and generate the split for each index. The list comprehension collects\n",
    "                                          # all these splits into the list 'splits_b'.\n",
    "\n",
    "for i in splits_b:  # Iterate over each split (tuple) in 'splits_b'\n",
    "    print(i)        # Print the current split tuple, which contains the two parts of the word"
   ]
  },
  {
   "cell_type": "markdown",
   "metadata": {},
   "source": [
    "### Delete Edit\n",
    "Delete a letter from each string in the `splits` list.\n",
    "<br>\n",
    "What this does is effectively delete each possible letter from the original word being edited. "
   ]
  },
  {
   "cell_type": "code",
   "execution_count": 4,
   "metadata": {},
   "outputs": [
    {
     "data": {
      "text/plain": [
       "[['', 'dearz'],\n",
       " ['d', 'earz'],\n",
       " ['de', 'arz'],\n",
       " ['dea', 'rz'],\n",
       " ['dear', 'z'],\n",
       " ['dearz', '']]"
      ]
     },
     "execution_count": 4,
     "metadata": {},
     "output_type": "execute_result"
    }
   ],
   "source": [
    "splits_a    # [L,R]"
   ]
  },
  {
   "cell_type": "code",
   "execution_count": 5,
   "metadata": {},
   "outputs": [
    {
     "name": "stdout",
     "output_type": "stream",
     "text": [
      "word :  dearz\n",
      "earz  <-- delete  d\n",
      "darz  <-- delete  e\n",
      "derz  <-- delete  a\n",
      "deaz  <-- delete  r\n",
      "dear  <-- delete  z\n"
     ]
    }
   ],
   "source": [
    "# Deletes with a loop\n",
    "\n",
    "splits = splits_a  # Assign the list of splits from 'splits_a' to the variable 'splits'\n",
    "deletes = []       # Initialize an empty list to store the results of deletions (not used in this code snippet)\n",
    "\n",
    "print('word : ', word)  # Print the original word to provide context\n",
    "\n",
    "for L, R in splits:     # Iterate over each split in 'splits', where each split is a pair (L, R)\n",
    "    \n",
    "    if R:               # Check if the right part (R) of the split is not empty\n",
    "        \n",
    "        print(L + R[1:], ' <-- delete ', R[0])  # Print the result of deleting the first character of R\n",
    "                                                # - Concatenate L with R[1:], which is R without its first character\n",
    "                                                # - Indicate which character (R[0]) was deleted"
   ]
  },
  {
   "cell_type": "markdown",
   "metadata": {},
   "source": [
    "It's worth taking a closer look at how this is excecuting a 'delete'.\n",
    "<br>\n",
    "Taking the first item from the `splits` list :"
   ]
  },
  {
   "cell_type": "code",
   "execution_count": 6,
   "metadata": {},
   "outputs": [
    {
     "name": "stdout",
     "output_type": "stream",
     "text": [
      "word :  dearz\n",
      "first item from the splits list :  ['', 'dearz']\n",
      "\n",
      "L :  \n",
      "R :  dearz\n",
      "\n",
      "*** now implicit delete by excluding the leading letter ***\n",
      "L + R[1:] :  earz  <-- delete  d\n"
     ]
    }
   ],
   "source": [
    "# Breaking it down\n",
    "\n",
    "print('word : ', word) # Print the original word\n",
    "\n",
    "one_split = splits[0]  # Take the first item from the splits list and store it in one_split\n",
    "\n",
    "print('first item from the splits list : ', one_split) # Print the first item from the splits list\n",
    "print()\n",
    "\n",
    "L = one_split[0]  # Assign the first part of one_split (before the split point) to L\n",
    "R = one_split[1]  # Assign the second part of one_split (after the split point) to R\n",
    "\n",
    "\n",
    "print('L : ', L)    # Print the value of L (the left part of the split)\n",
    "print('R : ', R)    # Print the value of R (the right part of the split)\n",
    "print()\n",
    "\n",
    "# Print a message indicating the next operation: deleting the leading letter of R\n",
    "print('*** now implicit delete by excluding the leading letter ***')\n",
    "print('L + R[1:] : ',L + R[1:], ' <-- delete ', R[0]) # Print the result of concatenating L with R[1:], \n",
    "                                                      # which is R without its first character\n",
    "                                                      # Also, show which character is being \"deleted\" (R[0])"
   ]
  },
  {
   "cell_type": "markdown",
   "metadata": {},
   "source": [
    "So the end result transforms **'dearz'** to **'earz'** by deleting the first character.\n",
    "<br>\n",
    "And you use a **loop** (code block above) or a **list comprehension** (code block below) to do\n",
    "<br>\n",
    "this for the entire `splits` list."
   ]
  },
  {
   "cell_type": "code",
   "execution_count": 7,
   "metadata": {},
   "outputs": [
    {
     "name": "stdout",
     "output_type": "stream",
     "text": [
      "['earz', 'darz', 'derz', 'deaz', 'dear']\n",
      "\n",
      "*** which is the same as ***\n",
      "earz\n",
      "darz\n",
      "derz\n",
      "deaz\n",
      "dear\n"
     ]
    }
   ],
   "source": [
    "# Deletes with a list comprehension\n",
    "\n",
    "splits = splits_a      # Assign the list of splits from 'splits_a' to the variable 'splits'\n",
    "\n",
    "deletes = [L + R[1:]           # Create a new list where each element is the result of deleting the first character of R\n",
    "           for L, R in splits  # Iterate over each split in 'splits', where each split is a pair (L, R)\n",
    "           if R]               # Only include the split if the right part (R) is not empty\n",
    "\n",
    "print(deletes)         # Print the list of deletions\n",
    "print()\n",
    "\n",
    "\n",
    "print('*** which is the same as ***')  # Print a separator for clarity\n",
    "\n",
    "for i in deletes:  # Iterate over each item in the 'deletes' list\n",
    "    print(i)       # Print each deletion result"
   ]
  },
  {
   "cell_type": "markdown",
   "metadata": {},
   "source": [
    "### Ungraded Exercise\n",
    "You now have a list of ***candidate strings*** created after performing a **delete** edit.\n",
    "<br>\n",
    "Next step will be to filter this list for ***candidate words*** found in a vocabulary.\n",
    "<br>\n",
    "Given the example vocab below, can you think of a way to create a list of candidate words ? \n",
    "<br>\n",
    "Remember, you already have a list of candidate strings, some of which are certainly not actual words you might find in your vocabulary !\n",
    "<br>\n",
    "<br>\n",
    "So from the above list **earz, darz, derz, deaz, dear**. \n",
    "<br>\n",
    "You're really only interested in **dear**."
   ]
  },
  {
   "cell_type": "code",
   "execution_count": 8,
   "metadata": {},
   "outputs": [
    {
     "name": "stdout",
     "output_type": "stream",
     "text": [
      "vocab :  ['dean', 'deer', 'dear', 'fries', 'and', 'coke']\n",
      "edits :  ['earz', 'darz', 'derz', 'deaz', 'dear']\n",
      "candidate words :  {'dear'}\n"
     ]
    }
   ],
   "source": [
    "vocab = ['dean', 'deer', 'dear', 'fries', 'and', 'coke']  # Define a list of words representing the vocabulary\n",
    "\n",
    "edits = deletes.copy()    # Create a copy of the 'deletes' list and assign it to 'edits'\n",
    "\n",
    "print('vocab : ', vocab)  # Print the vocabulary list\n",
    "print('edits : ', edits)  # Print the list of words after deletions\n",
    "\n",
    "candidates = []           # Initialize an empty list to store candidate words\n",
    "\n",
    "### START CODE HERE ###\n",
    "\n",
    "candidates = set(edits).intersection(set(vocab))  # Find the intersection of the 'edits' list and 'vocab'.\n",
    "                                                  # Convert both lists to sets and get common elements.\n",
    "                                                  # The result is assigned to 'candidates'.\n",
    "\n",
    "### END CODE HERE ###\n",
    "\n",
    "print('candidate words : ', candidates)  # Print the list of candidate words found in both 'edits' and 'vocab'"
   ]
  },
  {
   "cell_type": "markdown",
   "metadata": {},
   "source": [
    "Expected Outcome:\n",
    "\n",
    "vocab :  ['dean', 'deer', 'dear', 'fries', 'and', 'coke']\n",
    "<br>\n",
    "edits :  ['earz', 'darz', 'derz', 'deaz', 'dear']\n",
    "<br>\n",
    "candidate words :  {'dear'}"
   ]
  },
  {
   "cell_type": "markdown",
   "metadata": {},
   "source": [
    "### Summary\n",
    "You've unpacked an integral part of the assignment by breaking down **splits** and **edits**, specifically looking at **deletes** here.\n",
    "<br>\n",
    "Implementation of the other edit types (insert, replace, switch) follows a similar methodology and should now feel somewhat familiar when you see them.\n",
    "<br>\n",
    "This bit of the code isn't as intuitive as other sections, so well done!\n",
    "<br>\n",
    "You should now feel confident facing some of the more technical parts of the assignment at the end of the week."
   ]
  }
 ],
 "metadata": {
  "kernelspec": {
   "display_name": "Python 3",
   "language": "python",
   "name": "python3"
  },
  "language_info": {
   "codemirror_mode": {
    "name": "ipython",
    "version": 3
   },
   "file_extension": ".py",
   "mimetype": "text/x-python",
   "name": "python",
   "nbconvert_exporter": "python",
   "pygments_lexer": "ipython3",
   "version": "3.7.6"
  }
 },
 "nbformat": 4,
 "nbformat_minor": 2
}
