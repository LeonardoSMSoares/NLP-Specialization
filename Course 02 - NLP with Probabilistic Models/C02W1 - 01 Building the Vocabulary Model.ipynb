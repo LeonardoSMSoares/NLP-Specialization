{
 "cells": [
  {
   "cell_type": "markdown",
   "metadata": {},
   "source": [
    "# NLP Course 2 Week 1 Lesson : Building The Model - Lecture Exercise 01\n",
    "\n",
    "# Vocabulary Creation \n",
    "Create a tiny vocabulary from a tiny corpus\n",
    "\n",
    "### Imports and Data"
   ]
  },
  {
   "cell_type": "code",
   "execution_count": 2,
   "metadata": {},
   "outputs": [],
   "source": [
    "import re                         # regular expression library; for tokenization of words\n",
    "from collections import Counter   # collections library; counter: dict subclass for counting hashable objects\n",
    "import matplotlib.pyplot as plt   # for data visualization"
   ]
  },
  {
   "cell_type": "code",
   "execution_count": 3,
   "metadata": {},
   "outputs": [
    {
     "name": "stdout",
     "output_type": "stream",
     "text": [
      "red pink pink blue blue yellow ORANGE BLUE BLUE PINK\n",
      "string length :  52\n"
     ]
    }
   ],
   "source": [
    "# the tiny corpus of text ! \n",
    "text = 'red pink pink blue blue yellow ORANGE BLUE BLUE PINK' # 🌈\n",
    "print(text)\n",
    "print('string length : ',len(text))"
   ]
  },
  {
   "cell_type": "markdown",
   "metadata": {},
   "source": [
    "### Preprocessing"
   ]
  },
  {
   "cell_type": "code",
   "execution_count": 5,
   "metadata": {},
   "outputs": [
    {
     "name": "stdout",
     "output_type": "stream",
     "text": [
      "red pink pink blue blue yellow orange blue blue pink\n",
      "string length :  52\n"
     ]
    }
   ],
   "source": [
    "# convert all letters to lower case\n",
    "text_lowercase = text.lower()\n",
    "print(text_lowercase)\n",
    "print('string length : ',len(text_lowercase))"
   ]
  },
  {
   "cell_type": "code",
   "execution_count": 6,
   "metadata": {},
   "outputs": [
    {
     "name": "stdout",
     "output_type": "stream",
     "text": [
      "['red', 'pink', 'pink', 'blue', 'blue', 'yellow', 'orange', 'blue', 'blue', 'pink']\n",
      "count :  10\n"
     ]
    }
   ],
   "source": [
    "# some regex to tokenize the string to words and return them in a list\n",
    "words = re.findall(r'\\w+', text_lowercase)\n",
    "print(words)\n",
    "print('count : ',len(words))"
   ]
  },
  {
   "cell_type": "markdown",
   "metadata": {},
   "source": [
    "### Create Vocabulary\n",
    "Option 1 : A set of distinct words from the text"
   ]
  },
  {
   "cell_type": "code",
   "execution_count": 8,
   "metadata": {},
   "outputs": [
    {
     "name": "stdout",
     "output_type": "stream",
     "text": [
      "{'pink', 'yellow', 'blue', 'red', 'orange'}\n",
      "count :  5\n"
     ]
    }
   ],
   "source": [
    "# create vocab\n",
    "vocab = set(words)\n",
    "print(vocab)\n",
    "print('count : ',len(vocab))"
   ]
  },
  {
   "cell_type": "markdown",
   "metadata": {},
   "source": [
    "### Add Information with Word Counts\n",
    "Option 2 : Two alternatives for including the word count as well"
   ]
  },
  {
   "cell_type": "code",
   "execution_count": 10,
   "metadata": {},
   "outputs": [
    {
     "name": "stdout",
     "output_type": "stream",
     "text": [
      "{'red': 1, 'pink': 3, 'blue': 4, 'yellow': 1, 'orange': 1}\n",
      "count :  5\n"
     ]
    }
   ],
   "source": [
    "# Create vocab including word count\n",
    "\n",
    "counts_a = dict()  # Initialize an empty dictionary to store word counts\n",
    "\n",
    "for w in words:    # Iterate over each word in the list 'words'\n",
    "    \n",
    "    counts_a[w] = counts_a.get(w, 0) + 1   # Increment the count for the word 'w' in 'counts_a'.\n",
    "                                           # If 'w' is not in 'counts_a', start with 0 and add 1.\n",
    " \n",
    "print(counts_a)\n",
    "print('count : ',len(counts_a))"
   ]
  },
  {
   "cell_type": "code",
   "execution_count": 11,
   "metadata": {},
   "outputs": [
    {
     "name": "stdout",
     "output_type": "stream",
     "text": [
      "Counter({'blue': 4, 'pink': 3, 'red': 1, 'yellow': 1, 'orange': 1})\n",
      "count :  5\n"
     ]
    }
   ],
   "source": [
    "# Create vocab including word count using collections.Counter\n",
    "\n",
    "counts_b = dict()  # Initialize an empty dictionary to store word counts\n",
    "\n",
    "counts_b = Counter(words)  # Use the Counter class from the collections module to count the occurrences \n",
    "                           # of each word in the list 'words', and store the result in 'counts_b'.\n",
    "                           # 'Counter' automatically creates a dictionary where keys are words and \n",
    "                           # values are their counts.\n",
    "\n",
    "print(counts_b)\n",
    "print('count : ',len(counts_b))"
   ]
  },
  {
   "cell_type": "code",
   "execution_count": 12,
   "metadata": {},
   "outputs": [
    {
     "data": {
      "image/png": "[encoded data removed]",
      "text/plain": [
       "<Figure size 640x480 with 1 Axes>"
      ]
     },
     "metadata": {},
     "output_type": "display_data"
    }
   ],
   "source": [
    "# Barchart of sorted word counts\n",
    "\n",
    "d = {'blue': counts_b['blue'],       # Create a dictionary 'd' with specific colors as keys\n",
    "     'pink': counts_b['pink'],       # and their corresponding word counts from 'counts_b' as values.\n",
    "     'red': counts_b['red'], \n",
    "     'yellow': counts_b['yellow'], \n",
    "     'orange': counts_b['orange']}\n",
    "\n",
    "plt.bar(range(len(d)),               # Create a bar chart with bars positioned at indices 0 to len(d)-1.\n",
    "        list(d.values()),            # Set the heights of the bars to the values (word counts) in 'd'.\n",
    "        align='center',              # Center the bars on the tick marks.\n",
    "        color=d.keys())              # Color each bar according to the corresponding key (color name) in 'd'.\n",
    "\n",
    "_ = plt.xticks(range(len(d)),        # Set the x-axis tick marks at positions 0 to len(d)-1.\n",
    "               list(d.keys()))       # Label the x-axis ticks with the color names from 'd'."
   ]
  },
  {
   "cell_type": "markdown",
   "metadata": {},
   "source": [
    "### Ungraded Exercise\n",
    "Note that `counts_b`, above, returned by `collections.Counter` is sorted by word count\n",
    "\n",
    "Can you modify the tiny corpus of ***text*** so that a new color appears \n",
    "between ***pink*** and ***red*** in `counts_b` ?\n",
    "\n",
    "Do you need to run all the cells again, or just specific ones ? "
   ]
  },
  {
   "cell_type": "code",
   "execution_count": 14,
   "metadata": {},
   "outputs": [],
   "source": [
    "# New corpus of text ! \n",
    "text2 = 'red pink pink blue blue yellow ORANGE BLUE BLUE PINK green GrEeN'\n",
    "\n",
    "# convert all letters to lower case\n",
    "text_lowercase2 = text2.lower()\n",
    "\n",
    "# some regex to tokenize the string to words and return them in a list\n",
    "words2 = re.findall(r'\\w+', text_lowercase2)\n",
    "\n",
    "# Create vocab including word count using collections.Counter\n",
    "counts_b = dict()\n",
    "counts_b = Counter(words2) "
   ]
  },
  {
   "cell_type": "code",
   "execution_count": 15,
   "metadata": {},
   "outputs": [
    {
     "name": "stdout",
     "output_type": "stream",
     "text": [
      "counts_b :  Counter({'blue': 4, 'pink': 3, 'green': 2, 'red': 1, 'yellow': 1, 'orange': 1})\n",
      "count :  6\n"
     ]
    }
   ],
   "source": [
    "print('counts_b : ', counts_b)\n",
    "print('count : ', len(counts_b))"
   ]
  },
  {
   "cell_type": "markdown",
   "metadata": {},
   "source": [
    "Expected Outcome:\n",
    "\n",
    "counts_b : Counter({'blue': 4, 'pink': 3, **'your_new_color_here': 2**, red': 1, 'yellow': 1, 'orange': 1})\n",
    "<br>\n",
    "count :  6"
   ]
  },
  {
   "cell_type": "code",
   "execution_count": 17,
   "metadata": {},
   "outputs": [
    {
     "data": {
      "image/png": "[encoded data removed]",
      "text/plain": [
       "<Figure size 640x480 with 1 Axes>"
      ]
     },
     "metadata": {},
     "output_type": "display_data"
    }
   ],
   "source": [
    "# Barchart of sorted word counts\n",
    "\n",
    "d = {'blue': counts_b['blue'],       # Create a dictionary 'd' with specific colors as keys\n",
    "     'pink': counts_b['pink'],       # and their corresponding word counts from 'counts_b' as values.\n",
    "     'green': counts_b['green'], \n",
    "     'red': counts_b['red'], \n",
    "     'yellow': counts_b['yellow'], \n",
    "     'orange': counts_b['orange']}\n",
    "\n",
    "plt.bar(range(len(d)),               # Create a bar chart with bars positioned at indices 0 to len(d)-1.\n",
    "        list(d.values()),            # Set the heights of the bars to the values (word counts) in 'd'.\n",
    "        align='center',              # Center the bars on the tick marks.\n",
    "        color=d.keys())              # Color each bar according to the corresponding key (color name) in 'd'.\n",
    "\n",
    "_ = plt.xticks(range(len(d)),        # Set the x-axis tick marks at positions 0 to len(d)-1.\n",
    "               list(d.keys()))       # Label the x-axis ticks with the color names from 'd'."
   ]
  },
  {
   "cell_type": "markdown",
   "metadata": {},
   "source": [
    "### Summary\n",
    "\n",
    "This is a tiny example but the methodology scales very well.\n",
    "<br>\n",
    "In the assignment you will create a large vocabulary of thousands of words, from a corpus\n",
    "<br>\n",
    "of tens of thousands or words! But the mechanics are exactly the same. \n",
    "<br> \n",
    "The only extra things to pay attention to should be; run time, memory management and the vocab data structure.\n",
    "<br> \n",
    "So the choice of approach used in code blocks `counts_a` vs `counts_b`, above, will be important."
   ]
  }
 ],
 "metadata": {
  "kernelspec": {
   "display_name": "Python 3 (ipykernel)",
   "language": "python",
   "name": "python3"
  },
  "language_info": {
   "codemirror_mode": {
    "name": "ipython",
    "version": 3
   },
   "file_extension": ".py",
   "mimetype": "text/x-python",
   "name": "python",
   "nbconvert_exporter": "python",
   "pygments_lexer": "ipython3",
   "version": "3.11.7"
  }
 },
 "nbformat": 4,
 "nbformat_minor": 4
}
